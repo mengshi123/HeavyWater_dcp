{
 "cells": [
  {
   "cell_type": "code",
   "execution_count": 2,
   "metadata": {},
   "outputs": [],
   "source": [
    "import csv\n",
    "#import matplotlib.pyplot as plt\n",
    "#import matplotlib.ticker as ticker\n",
    "import numpy as np\n",
    "import pandas as pd\n",
    "import time\n",
    "from sklearn.externals import joblib\n",
    "from sklearn.pipeline import Pipeline\n",
    "from sklearn.feature_extraction.text import CountVectorizer\n",
    "from sklearn.feature_extraction.text import TfidfTransformer\n",
    "from sklearn.naive_bayes import MultinomialNB\n",
    "label =100\n",
    "from sklearn.model_selection import GridSearchCV, KFold"
   ]
  },
  {
   "cell_type": "code",
   "execution_count": 12,
   "metadata": {},
   "outputs": [],
   "source": [
    "data_raw = pd.read_csv('../Documents/shuffled-full-set-hashed.csv',header = None)"
   ]
  },
  {
   "cell_type": "code",
   "execution_count": 14,
   "metadata": {},
   "outputs": [],
   "source": [
    "data_raw.columns = ['label','features']"
   ]
  },
  {
   "cell_type": "code",
   "execution_count": 6,
   "metadata": {},
   "outputs": [],
   "source": [
    "from sklearn.utils import shuffle"
   ]
  },
  {
   "cell_type": "code",
   "execution_count": 7,
   "metadata": {},
   "outputs": [],
   "source": [
    "data_raw = shuffle(data_raw).reset_index()"
   ]
  },
  {
   "cell_type": "code",
   "execution_count": 7,
   "metadata": {},
   "outputs": [],
   "source": [
    "data_raw = data_raw.drop('index',axis=1)"
   ]
  },
  {
   "cell_type": "code",
   "execution_count": 8,
   "metadata": {
    "scrolled": true
   },
   "outputs": [
    {
     "data": {
      "text/html": [
       "<div>\n",
       "<style scoped>\n",
       "    .dataframe tbody tr th:only-of-type {\n",
       "        vertical-align: middle;\n",
       "    }\n",
       "\n",
       "    .dataframe tbody tr th {\n",
       "        vertical-align: top;\n",
       "    }\n",
       "\n",
       "    .dataframe thead th {\n",
       "        text-align: right;\n",
       "    }\n",
       "</style>\n",
       "<table border=\"1\" class=\"dataframe\">\n",
       "  <thead>\n",
       "    <tr style=\"text-align: right;\">\n",
       "      <th></th>\n",
       "      <th>label</th>\n",
       "      <th>features</th>\n",
       "    </tr>\n",
       "  </thead>\n",
       "  <tbody>\n",
       "    <tr>\n",
       "      <th>0</th>\n",
       "      <td>CANCELLATION NOTICE</td>\n",
       "      <td>a004fb5e5716 c06be6a6100b 365a9390d225 e943e5e...</td>\n",
       "    </tr>\n",
       "    <tr>\n",
       "      <th>1</th>\n",
       "      <td>REINSTATEMENT NOTICE</td>\n",
       "      <td>20127286030f 071206f2bcbb 1e1cf4f1b953 f250d72...</td>\n",
       "    </tr>\n",
       "    <tr>\n",
       "      <th>2</th>\n",
       "      <td>CANCELLATION NOTICE</td>\n",
       "      <td>9b16d62c7990 5cd2ff1e0fb1 fbe267908bc5 4b45c77...</td>\n",
       "    </tr>\n",
       "    <tr>\n",
       "      <th>3</th>\n",
       "      <td>BINDER</td>\n",
       "      <td>bf15989af17d d63be9e66da8 5c2db045bc17 f49ab97...</td>\n",
       "    </tr>\n",
       "    <tr>\n",
       "      <th>4</th>\n",
       "      <td>POLICY CHANGE</td>\n",
       "      <td>566ed917bca5 8b0131ee1005 46c88d9303da 8d1bd25...</td>\n",
       "    </tr>\n",
       "  </tbody>\n",
       "</table>\n",
       "</div>"
      ],
      "text/plain": [
       "                  label                                           features\n",
       "0   CANCELLATION NOTICE  a004fb5e5716 c06be6a6100b 365a9390d225 e943e5e...\n",
       "1  REINSTATEMENT NOTICE  20127286030f 071206f2bcbb 1e1cf4f1b953 f250d72...\n",
       "2   CANCELLATION NOTICE  9b16d62c7990 5cd2ff1e0fb1 fbe267908bc5 4b45c77...\n",
       "3                BINDER  bf15989af17d d63be9e66da8 5c2db045bc17 f49ab97...\n",
       "4         POLICY CHANGE  566ed917bca5 8b0131ee1005 46c88d9303da 8d1bd25..."
      ]
     },
     "execution_count": 8,
     "metadata": {},
     "output_type": "execute_result"
    }
   ],
   "source": [
    "data_raw.head()"
   ]
  },
  {
   "cell_type": "code",
   "execution_count": 16,
   "metadata": {},
   "outputs": [
    {
     "name": "stdout",
     "output_type": "stream",
     "text": [
      "There are 14 distinct categories.\n"
     ]
    }
   ],
   "source": [
    "labels, index = data_raw['label'].factorize()\n",
    "print('There are {} distinct categories.'.format(len(index)))"
   ]
  },
  {
   "cell_type": "code",
   "execution_count": 17,
   "metadata": {},
   "outputs": [
    {
     "data": {
      "text/plain": [
       "array([0, 1, 2, ..., 2, 4, 4])"
      ]
     },
     "execution_count": 17,
     "metadata": {},
     "output_type": "execute_result"
    }
   ],
   "source": [
    "labels"
   ]
  },
  {
   "cell_type": "code",
   "execution_count": 18,
   "metadata": {},
   "outputs": [
    {
     "data": {
      "text/plain": [
       "Index(['DELETION OF INTEREST', 'RETURNED CHECK', 'BILL', 'POLICY CHANGE',\n",
       "       'CANCELLATION NOTICE', 'DECLARATION', 'CHANGE ENDORSEMENT',\n",
       "       'NON-RENEWAL NOTICE', 'BINDER', 'REINSTATEMENT NOTICE',\n",
       "       'EXPIRATION NOTICE', 'INTENT TO CANCEL NOTICE', 'APPLICATION',\n",
       "       'BILL BINDER'],\n",
       "      dtype='object')"
      ]
     },
     "execution_count": 18,
     "metadata": {},
     "output_type": "execute_result"
    }
   ],
   "source": [
    "index"
   ]
  },
  {
   "cell_type": "code",
   "execution_count": 19,
   "metadata": {
    "scrolled": true
   },
   "outputs": [
    {
     "data": {
      "text/html": [
       "<div>\n",
       "<style scoped>\n",
       "    .dataframe tbody tr th:only-of-type {\n",
       "        vertical-align: middle;\n",
       "    }\n",
       "\n",
       "    .dataframe tbody tr th {\n",
       "        vertical-align: top;\n",
       "    }\n",
       "\n",
       "    .dataframe thead th {\n",
       "        text-align: right;\n",
       "    }\n",
       "</style>\n",
       "<table border=\"1\" class=\"dataframe\">\n",
       "  <thead>\n",
       "    <tr style=\"text-align: right;\">\n",
       "      <th></th>\n",
       "      <th>label</th>\n",
       "      <th>features</th>\n",
       "    </tr>\n",
       "  </thead>\n",
       "  <tbody>\n",
       "    <tr>\n",
       "      <th>0</th>\n",
       "      <td>0</td>\n",
       "      <td>e04a09c87692 d6b72e591b91 5d066f0246f1 ed41171...</td>\n",
       "    </tr>\n",
       "    <tr>\n",
       "      <th>1</th>\n",
       "      <td>1</td>\n",
       "      <td>a3b334c6eefd be95012ebf2b 41d67080e078 ff1c26e...</td>\n",
       "    </tr>\n",
       "    <tr>\n",
       "      <th>2</th>\n",
       "      <td>2</td>\n",
       "      <td>586242498a88 9ccf259ca087 54709b24b45f 6bf9c0c...</td>\n",
       "    </tr>\n",
       "    <tr>\n",
       "      <th>3</th>\n",
       "      <td>2</td>\n",
       "      <td>cd50e861f48b 6ca2dd348663 d38820625542 f077614...</td>\n",
       "    </tr>\n",
       "    <tr>\n",
       "      <th>4</th>\n",
       "      <td>2</td>\n",
       "      <td>9db5536263d8 1c303d15eb65 3f89b4673455 b73e657...</td>\n",
       "    </tr>\n",
       "    <tr>\n",
       "      <th>5</th>\n",
       "      <td>3</td>\n",
       "      <td>10e45001c2f2 6a01047db3ab 6a8e3499dab9 97b6014...</td>\n",
       "    </tr>\n",
       "    <tr>\n",
       "      <th>6</th>\n",
       "      <td>3</td>\n",
       "      <td>4e5019f629a9 54fb196d55ce 0cf4049f1c7c ef4ea27...</td>\n",
       "    </tr>\n",
       "    <tr>\n",
       "      <th>7</th>\n",
       "      <td>2</td>\n",
       "      <td>ad4440ac97a5 8e93a2273a93 c913f5129fe2 bfb030c...</td>\n",
       "    </tr>\n",
       "    <tr>\n",
       "      <th>8</th>\n",
       "      <td>4</td>\n",
       "      <td>25c57acdf805 b7a0f56f6ce8 cf4fc632eed2 67f9c02...</td>\n",
       "    </tr>\n",
       "    <tr>\n",
       "      <th>9</th>\n",
       "      <td>2</td>\n",
       "      <td>48d657cd9861 fee60001e67a 4ce4bfb42e22 de9738e...</td>\n",
       "    </tr>\n",
       "  </tbody>\n",
       "</table>\n",
       "</div>"
      ],
      "text/plain": [
       "   label                                           features\n",
       "0      0  e04a09c87692 d6b72e591b91 5d066f0246f1 ed41171...\n",
       "1      1  a3b334c6eefd be95012ebf2b 41d67080e078 ff1c26e...\n",
       "2      2  586242498a88 9ccf259ca087 54709b24b45f 6bf9c0c...\n",
       "3      2  cd50e861f48b 6ca2dd348663 d38820625542 f077614...\n",
       "4      2  9db5536263d8 1c303d15eb65 3f89b4673455 b73e657...\n",
       "5      3  10e45001c2f2 6a01047db3ab 6a8e3499dab9 97b6014...\n",
       "6      3  4e5019f629a9 54fb196d55ce 0cf4049f1c7c ef4ea27...\n",
       "7      2  ad4440ac97a5 8e93a2273a93 c913f5129fe2 bfb030c...\n",
       "8      4  25c57acdf805 b7a0f56f6ce8 cf4fc632eed2 67f9c02...\n",
       "9      2  48d657cd9861 fee60001e67a 4ce4bfb42e22 de9738e..."
      ]
     },
     "execution_count": 19,
     "metadata": {},
     "output_type": "execute_result"
    }
   ],
   "source": [
    "data_raw['label'] = labels\n",
    "data_raw.head(10)"
   ]
  },
  {
   "cell_type": "code",
   "execution_count": 20,
   "metadata": {},
   "outputs": [],
   "source": [
    "data_raw['features'] = data_raw['features'].astype('str')"
   ]
  },
  {
   "cell_type": "code",
   "execution_count": 22,
   "metadata": {},
   "outputs": [
    {
     "data": {
      "text/plain": [
       "0    e04a09c87692 d6b72e591b91 5d066f0246f1 ed41171...\n",
       "1    a3b334c6eefd be95012ebf2b 41d67080e078 ff1c26e...\n",
       "2    586242498a88 9ccf259ca087 54709b24b45f 6bf9c0c...\n",
       "3    cd50e861f48b 6ca2dd348663 d38820625542 f077614...\n",
       "4    9db5536263d8 1c303d15eb65 3f89b4673455 b73e657...\n",
       "Name: features, dtype: object"
      ]
     },
     "execution_count": 22,
     "metadata": {},
     "output_type": "execute_result"
    }
   ],
   "source": [
    "data_raw['features'].head()"
   ]
  },
  {
   "cell_type": "code",
   "execution_count": 12,
   "metadata": {},
   "outputs": [],
   "source": [
    "X_all = data_raw['features']\n",
    "Y_all = data_raw['label']\n",
    "assert len(X_all)==len(Y_all)"
   ]
  },
  {
   "cell_type": "code",
   "execution_count": 13,
   "metadata": {},
   "outputs": [],
   "source": [
    "cv = CountVectorizer()\n",
    "tfidf = TfidfTransformer()\n",
    "clf = MultinomialNB(alpha=0.01)"
   ]
  },
  {
   "cell_type": "code",
   "execution_count": 14,
   "metadata": {},
   "outputs": [],
   "source": [
    "from sklearn.pipeline import Pipeline"
   ]
  },
  {
   "cell_type": "code",
   "execution_count": 15,
   "metadata": {},
   "outputs": [],
   "source": [
    "pipeline = Pipeline([('cv',cv),('tfidf',tfidf),('clf',clf)])"
   ]
  },
  {
   "cell_type": "code",
   "execution_count": 16,
   "metadata": {},
   "outputs": [
    {
     "name": "stdout",
     "output_type": "stream",
     "text": [
      "[0.7689092516678724, 0.7759826380516036, 0.7771079495217427, 0.7709187364359779, 0.7795819935691318]\n"
     ]
    }
   ],
   "source": [
    "#this step is actually meaningless, because the step behind(grid serach) contains this step\n",
    "kf = KFold(n_splits=5)\n",
    "accuracy = []\n",
    "for train_index, val_index in kf.split(X_all):\n",
    "    X_train, X_val = X_all[train_index], X_all[val_index]\n",
    "    Y_train, Y_val = Y_all[train_index], Y_all[val_index]\n",
    "    pipeline.fit(X_train,Y_train)\n",
    "    prediction = pipeline.predict(X_val)\n",
    "    ground_truth = Y_val.get_values()\n",
    "    accuracy.append(np.mean(prediction==ground_truth))\n",
    "print(accuracy)"
   ]
  },
  {
   "cell_type": "code",
   "execution_count": 17,
   "metadata": {},
   "outputs": [
    {
     "name": "stdout",
     "output_type": "stream",
     "text": [
      "0.782682785672947\n",
      "{'clf__alpha': 0.01, 'cv__max_features': 50000}\n"
     ]
    }
   ],
   "source": [
    "parameters = {'cv__max_features':(10000,50000,100000,None),\n",
    "             'clf__alpha':(1e-2,1e-3)}\n",
    "gs_clf = GridSearchCV(pipeline,parameters)\n",
    "gs_clf.fit(X_all,Y_all)\n",
    "print(gs_clf.best_score_)\n",
    "print(gs_clf.best_params_)\n",
    "# accuracy on validation set 78.2% "
   ]
  },
  {
   "cell_type": "code",
   "execution_count": 18,
   "metadata": {},
   "outputs": [],
   "source": [
    "# use train model to test all training data 84%\n",
    "total_prediction = gs_clf.predict(X_all)"
   ]
  },
  {
   "cell_type": "code",
   "execution_count": 19,
   "metadata": {},
   "outputs": [
    {
     "data": {
      "text/plain": [
       "0.8487235547553212"
      ]
     },
     "execution_count": 19,
     "metadata": {},
     "output_type": "execute_result"
    }
   ],
   "source": [
    "np.mean(total_prediction==Y_all.get_values())"
   ]
  },
  {
   "cell_type": "code",
   "execution_count": 20,
   "metadata": {},
   "outputs": [
    {
     "data": {
      "text/plain": [
       "0.8487235547553212"
      ]
     },
     "execution_count": 20,
     "metadata": {},
     "output_type": "execute_result"
    }
   ],
   "source": [
    "#用目前最优的参数重新初始化所有transformer和estimator,直接在所有data上训练，得到的结果和上面一样\n",
    "cv = CountVectorizer(max_features=50000)\n",
    "tfidf = TfidfTransformer()\n",
    "clf = MultinomialNB(alpha=0.01)\n",
    "pipeline = Pipeline([('cv',cv),('tfidf',tfidf),('clf',clf)])\n",
    "pipeline.fit(X_all,Y_all)\n",
    "pred = pipeline.predict(X_all)\n",
    "np.mean(pred==Y_all.get_values())"
   ]
  },
  {
   "cell_type": "code",
   "execution_count": 24,
   "metadata": {},
   "outputs": [],
   "source": [
    "with open('nb_model.z', 'wb') as f:\n",
    "                joblib.dump(pipeline, f, protocol=2)"
   ]
  },
  {
   "cell_type": "code",
   "execution_count": null,
   "metadata": {},
   "outputs": [],
   "source": []
  },
  {
   "cell_type": "code",
   "execution_count": null,
   "metadata": {},
   "outputs": [],
   "source": []
  },
  {
   "cell_type": "code",
   "execution_count": 28,
   "metadata": {},
   "outputs": [],
   "source": [
    "feature_all = tfidf.fit_transform(cv.fit_transform(X_all))"
   ]
  },
  {
   "cell_type": "code",
   "execution_count": 29,
   "metadata": {},
   "outputs": [
    {
     "data": {
      "text/plain": [
       "<62204x1000 sparse matrix of type '<type 'numpy.float64'>'\n",
       "\twith 6916879 stored elements in Compressed Sparse Row format>"
      ]
     },
     "execution_count": 29,
     "metadata": {},
     "output_type": "execute_result"
    }
   ],
   "source": [
    "feature_all"
   ]
  },
  {
   "cell_type": "code",
   "execution_count": 37,
   "metadata": {},
   "outputs": [],
   "source": [
    "X_test, Y_test = feature_all[:1000], Y_all[:1000]\n",
    "X_rest, Y_rest = feature_all[1000:], Y_all[1000:]\n",
    "Y_rest = Y_rest.reset_index(drop=True)"
   ]
  },
  {
   "cell_type": "code",
   "execution_count": 66,
   "metadata": {},
   "outputs": [
    {
     "name": "stdout",
     "output_type": "stream",
     "text": [
      "[0.7761803626858357, 0.7716059467407287, 0.7753635026956379, 0.7714425747426891, 0.7772875816993464, 0.7676470588235295, 0.7733660130718955, 0.7697712418300654, 0.7766339869281046, 0.7728758169934641]\n"
     ]
    }
   ],
   "source": [
    "kf = KFold(n_splits=10)\n",
    "clf = MultinomialNB(alpha=0.01)\n",
    "accuracy = []\n",
    "for train_index, val_index in kf.split(X_rest):\n",
    "    X_train, X_val = X_rest[train_index], X_rest[val_index]\n",
    "    Y_train, Y_val = Y_rest[train_index], Y_rest[val_index]\n",
    "    clf.fit(X_train,Y_train)\n",
    "    prediction = clf.predict(X_val)\n",
    "    ground_truth = Y_val.get_values()\n",
    "    accuracy.append(np.mean(prediction==ground_truth))\n",
    "print(accuracy)"
   ]
  },
  {
   "cell_type": "code",
   "execution_count": 67,
   "metadata": {},
   "outputs": [],
   "source": [
    "prediction = clf.predict(X_test)\n",
    "test_acc = np.mean(prediction==Y_test.get_values())"
   ]
  },
  {
   "cell_type": "code",
   "execution_count": 68,
   "metadata": {},
   "outputs": [
    {
     "data": {
      "text/plain": [
       "0.788"
      ]
     },
     "execution_count": 68,
     "metadata": {},
     "output_type": "execute_result"
    }
   ],
   "source": [
    "test_acc"
   ]
  }
 ],
 "metadata": {
  "kernelspec": {
   "display_name": "Python 3",
   "language": "python",
   "name": "python3"
  },
  "language_info": {
   "codemirror_mode": {
    "name": "ipython",
    "version": 3
   },
   "file_extension": ".py",
   "mimetype": "text/x-python",
   "name": "python",
   "nbconvert_exporter": "python",
   "pygments_lexer": "ipython3",
   "version": "3.6.5"
  }
 },
 "nbformat": 4,
 "nbformat_minor": 2
}
